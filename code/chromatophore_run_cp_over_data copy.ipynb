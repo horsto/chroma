{
 "cells": [
  {
   "cell_type": "markdown",
   "id": "e75366ed",
   "metadata": {},
   "source": [
    "## Chromatophores - CP video processing"
   ]
  },
  {
   "cell_type": "code",
   "execution_count": 1,
   "id": "9d5e02d5",
   "metadata": {},
   "outputs": [],
   "source": [
    "%load_ext autoreload\n",
    "%autoreload 2"
   ]
  },
  {
   "cell_type": "code",
   "execution_count": 2,
   "id": "572e35b3",
   "metadata": {},
   "outputs": [],
   "source": [
    "%config InlineBackend.figure_format = 'retina'"
   ]
  },
  {
   "cell_type": "code",
   "execution_count": null,
   "id": "889376ae",
   "metadata": {},
   "outputs": [
    {
     "name": "stdout",
     "output_type": "stream",
     "text": [
      "\n",
      "\n",
      "Welcome to CellposeSAM, cellpose v\n",
      "cellpose version: \t4.0.4 \n",
      "platform:       \tdarwin \n",
      "python version: \t3.11.11 \n",
      "torch version:  \t2.6.0! The neural network component of\n",
      "CPSAM is much larger than in previous versions and CPU excution is slow. \n",
      "We encourage users to use GPU/MPS if available. \n",
      "\n",
      "\n",
      "Cellpose found: 4.0.4\n"
     ]
    }
   ],
   "source": [
    "def ensure_package(pkg):\n",
    "    import sys\n",
    "    import subprocess\n",
    "    try:\n",
    "        __import__(pkg.split('[')[0])\n",
    "    except ImportError:\n",
    "        subprocess.check_call([sys.executable, \"-m\", \"pip\", \"install\", pkg])\n",
    "\n",
    "ensure_package(\"pyarrow\")\n",
    "ensure_package(\"fastparquet\")\n",
    "ensure_package(\"cellpose[gui]\")\n",
    "try:\n",
    "    from cellpose import models, version\n",
    "    HAS_CELLPOSE = True\n",
    "    print(f\"Cellpose found: {version}\")\n",
    "except (ImportError, ModuleNotFoundError, OSError):\n",
    "    HAS_CELLPOSE = False\n",
    "    print(\"Cellpose not found\")"
   ]
  },
  {
   "cell_type": "code",
   "execution_count": 4,
   "id": "50d26b6f",
   "metadata": {},
   "outputs": [],
   "source": [
    "from process_video import main as run_cp_over_data"
   ]
  },
  {
   "cell_type": "code",
   "execution_count": 5,
   "id": "bf7969f8",
   "metadata": {},
   "outputs": [],
   "source": [
    "video_path = '/Users/horst/Library/CloudStorage/GoogleDrive-hobenhaus@gmail.com/My Drive/OCTRON/Project folders - in progress/chromatophores/original videos/resized/0N3A1505_resized.mp4'\n",
    "model_path = '/Users/horst/Library/CloudStorage/GoogleDrive-hobenhaus@gmail.com/My Drive/OCTRON/Project folders - in progress/chromatophores/chromatophore_cp_models/cpsam_20250618_090504_it400'\n",
    "max_frames = 150"
   ]
  },
  {
   "cell_type": "code",
   "execution_count": 6,
   "id": "3486f623",
   "metadata": {},
   "outputs": [
    {
     "name": "stderr",
     "output_type": "stream",
     "text": [
      "INFO:cellpose.core:** TORCH MPS version installed and working. **\n",
      "INFO:cellpose.core:>>>> using GPU (MPS)\n"
     ]
    },
    {
     "name": "stdout",
     "output_type": "stream",
     "text": [
      "Using video: 0N3A1505_resized.mp4\n",
      "Using Cellpose model: cpsam_20250618_090504_it400\n",
      "Will process up to 150 frames\n",
      "\n",
      "Loading CellPose model\n"
     ]
    },
    {
     "name": "stderr",
     "output_type": "stream",
     "text": [
      "INFO:cellpose.models:>>>> loading model /Users/horst/Library/CloudStorage/GoogleDrive-hobenhaus@gmail.com/My Drive/OCTRON/Project folders - in progress/chromatophores/chromatophore_cp_models/cpsam_20250618_090504_it400\n"
     ]
    },
    {
     "name": "stdout",
     "output_type": "stream",
     "text": [
      "Processing video\n",
      "Removed previously saved zarr archive.\n",
      "Zarr store info:\n",
      "Type               : Array\n",
      "Zarr format        : 3\n",
      "Data type          : DataType.int32\n",
      "Shape              : (12830, 720, 1364)\n",
      "Chunk shape        : (250, 720, 1364)\n",
      "Order              : C\n",
      "Read-only          : False\n",
      "Store type         : LocalStore\n",
      "Filters            : ()\n",
      "Serializer         : BytesCodec(endian=<Endian.little: 'little'>)\n",
      "Compressors        : (ZstdCodec(level=0, checksum=False),)\n",
      "No. bytes          : 50400345600 (46.9G)\n"
     ]
    },
    {
     "name": "stderr",
     "output_type": "stream",
     "text": [
      "Extracting masks:   1%|          | 150/12830 [15:50<22:18:36,  6.33s/frame]"
     ]
    },
    {
     "name": "stdout",
     "output_type": "stream",
     "text": [
      "\n",
      "Saved masks to zarr archive and tracking details to parquet.\n",
      "Parquet saved under: \"/Users/horst/Library/CloudStorage/GoogleDrive-hobenhaus@gmail.com/My Drive/OCTRON/Project folders - in progress/chromatophores/original videos/resized/0N3A1505_resized_export/0N3A1505_resized_cell_tracking.parquet\"\n"
     ]
    },
    {
     "name": "stderr",
     "output_type": "stream",
     "text": [
      "\n"
     ]
    }
   ],
   "source": [
    "# Execute processing\n",
    "video, zarr_path, mask_zarr, master_df, parquet_path = run_cp_over_data(\n",
    "     video_path = video_path,\n",
    "     model_path = model_path,\n",
    "     max_frames = max_frames\n",
    "     )"
   ]
  },
  {
   "cell_type": "code",
   "execution_count": null,
   "id": "195fe747",
   "metadata": {},
   "outputs": [],
   "source": []
  }
 ],
 "metadata": {
  "kernelspec": {
   "display_name": "octron",
   "language": "python",
   "name": "python3"
  },
  "language_info": {
   "codemirror_mode": {
    "name": "ipython",
    "version": 3
   },
   "file_extension": ".py",
   "mimetype": "text/x-python",
   "name": "python",
   "nbconvert_exporter": "python",
   "pygments_lexer": "ipython3",
   "version": "3.11.11"
  }
 },
 "nbformat": 4,
 "nbformat_minor": 5
}
